{
  "nbformat": 4,
  "nbformat_minor": 0,
  "metadata": {
    "colab": {
      "name": "Binary Search 2.ipynb",
      "provenance": []
    },
    "kernelspec": {
      "name": "python3",
      "display_name": "Python 3"
    },
    "language_info": {
      "name": "python"
    }
  },
  "cells": [
    {
      "cell_type": "markdown",
      "source": [
        "Find First and Last Position of Element in Sorted Array"
      ],
      "metadata": {
        "id": "SDwXMmff_FXx"
      }
    },
    {
      "cell_type": "code",
      "execution_count": 9,
      "metadata": {
        "colab": {
          "base_uri": "https://localhost:8080/"
        },
        "id": "TBZJPrJ79gW6",
        "outputId": "bdbe4176-c2c1-4bcf-ea97-92c2805278cd"
      },
      "outputs": [
        {
          "output_type": "stream",
          "name": "stdout",
          "text": [
            "[-1, -1]\n"
          ]
        }
      ],
      "source": [
        "nums = []\n",
        "target = 1\n",
        "output = [-1,-1]\n",
        "low = 0\n",
        "high = len(nums) - 1\n",
        "def findleftindex(nums,target):\n",
        "  index = -1\n",
        "  left , right = 0, len(nums) - 1\n",
        "  while left <= right:\n",
        "    mid = (left + right) // 2\n",
        "    if nums[mid] == target:\n",
        "      index = mid\n",
        "      right = mid - 1\n",
        "    elif nums[mid] > target:\n",
        "      right = mid - 1\n",
        "    else:\n",
        "      left = mid + 1\n",
        "  return index\n",
        "def findrightindex(nums,target):\n",
        "  index = -1\n",
        "  left , right = 0, len(nums) - 1\n",
        "  while left <= right:\n",
        "    mid = (left + right) // 2\n",
        "    if nums[mid] == target:\n",
        "      index = mid\n",
        "      left = mid + 1\n",
        "    elif nums[mid] > target:\n",
        "      right = mid - 1\n",
        "    else:\n",
        "      left = mid + 1\n",
        "  return index\n",
        "\n",
        "output[0] = findleftindex(nums , target)\n",
        "output[1] = findrightindex(nums , target)\n",
        "print(output)"
      ]
    },
    {
      "cell_type": "markdown",
      "source": [
        "Find Minimum in Rotated Sorted Array"
      ],
      "metadata": {
        "id": "ZDkpTk2TDu7h"
      }
    },
    {
      "cell_type": "code",
      "source": [
        "nums = [3,4,5,6,7,-1,0,1,2]\n",
        "first = 0\n",
        "last = len(nums)-1\n",
        "while nums[first] > nums[last]:\n",
        "    middle = (first+last) // 2\n",
        "    if nums[middle] <nums[last]:\n",
        "        last = middle\n",
        "    else:\n",
        "        first = middle + 1\n",
        "print(nums[first])"
      ],
      "metadata": {
        "colab": {
          "base_uri": "https://localhost:8080/"
        },
        "id": "DmCG6Vl3_Ewd",
        "outputId": "a6eeec5c-df84-4f6b-9a1e-effa0cdd6210"
      },
      "execution_count": 13,
      "outputs": [
        {
          "output_type": "stream",
          "name": "stdout",
          "text": [
            "-1\n"
          ]
        }
      ]
    },
    {
      "cell_type": "markdown",
      "source": [
        "Find Peak Element"
      ],
      "metadata": {
        "id": "gmB_bPKoP9Vp"
      }
    },
    {
      "cell_type": "code",
      "source": [
        "nums = [1,2,1,3,5,6,4]\n",
        "left = 0\n",
        "right = len(nums) - 1\n",
        "while left < right:\n",
        "    mid = (left + right) // 2\n",
        "    if nums[mid] > nums[mid + 1]:\n",
        "        right = mid\n",
        "    else: \n",
        "        left = mid + 1\n",
        "print(left)"
      ],
      "metadata": {
        "colab": {
          "base_uri": "https://localhost:8080/"
        },
        "id": "jX8UY30CP-9W",
        "outputId": "260e0f65-4e61-4a58-abe4-60dc5fd171b3"
      },
      "execution_count": 14,
      "outputs": [
        {
          "output_type": "stream",
          "name": "stdout",
          "text": [
            "5\n"
          ]
        }
      ]
    }
  ]
}